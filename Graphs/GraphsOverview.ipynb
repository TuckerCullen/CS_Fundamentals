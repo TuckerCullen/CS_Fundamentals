{
 "cells": [
  {
   "cell_type": "markdown",
   "metadata": {},
   "source": [
    "# Graphs \n",
    "\n",
    "Graphs are a nonlinear data structure that consisting of a collection of nodes connected by edges. Graphs can have a very symmetrical and balanced structure (a BST is actually a type of graph), or they can be very convoluted and contain a lot of circular connections (cycles). Graphs have many applications, for example in social networks, all users are vertices and they are connected to their friends via edges. Mapping software also uses graphs to represent locations and routes connecting those locations. \n",
    "\n",
    "Graphs can either be directed (edges go one way) or undirected (edges go both ways). \n",
    "\n",
    "There are two main ways in which you can implement a graph under the hood:\n",
    "\n",
    "1. adjacency matrix\n",
    "2. adjacency list \n",
    "\n"
   ]
  },
  {
   "cell_type": "markdown",
   "metadata": {},
   "source": [
    "## Adjacency Matrix\n",
    "\n",
    "Adjacency matrix consists of an V x V matrix where there is an index on each side of the matrix that corresponds to each vertex in the graph. To check if two nodes have an edge between them, you go to the place where the row for one intersects the column for the other. That value will be a 1 if their is an edge between the two, or a 0 if not. \n",
    "\n",
    "The adjacency matrix implmentation also allows you to represent a weighted graph (where some edges are weighted higher than others). To do this, instead of putting in a 1 or 0 for an edge, you put in the weight of that edge. \n",
    "\n",
    "In an undirected graph, the two sides of the matrix should mirror each other over the diagonal because if vertex *u* point to vertex *v*, the reverse must also be true in an undirected graph. However in a directed graph, the matrix can keep track of one-way edges, so if a edge goes from (u, v) but not (v, u), the matrix will show a \"1\" at arr[u][v] but a \"0\" at arr[v][u].\n",
    "\n",
    "Adjacency matrices enable you to check whether or not an edge exists in $O(1)$ time. It also lets you add new edges in O(1) time. However, adding or removing vertices requires you to copy over the matrix and increase the storage by 1, and copying it over takes $O(V^2)$ time. The matrix also takes up a lot of memory, since even if the graph has view edges, the space complexity is still $O(V^2)$. \n",
    "\n",
    "Below I implement an adjacentcy matrix for an unweighted, directed graph using pandas:\n"
   ]
  },
  {
   "cell_type": "code",
   "execution_count": 16,
   "metadata": {},
   "outputs": [
    {
     "name": "stdout",
     "output_type": "stream",
     "text": [
      "   A  B  C  D  E\n",
      "A  0  0  0  0  0\n",
      "B  1  0  0  1  0\n",
      "C  0  1  0  0  0\n",
      "D  0  0  1  0  0\n",
      "E  0  0  0  1  0\n"
     ]
    }
   ],
   "source": [
    "import pandas as pd\n",
    "\n",
    "\n",
    "\n",
    "class Graph_Adj_Matrix():\n",
    "    \n",
    "    def __init__(self, vertices):\n",
    "        \n",
    "        self.matrix = pd.DataFrame(0, index=vertices, columns=vertices)\n",
    "        \n",
    "    def add_vertex(self, v):\n",
    "        \n",
    "        self.matrix = self.matrix.append(pd.Series(0, index=self.matrix.columns, name=v))\n",
    "        self.matrix[v] = 0\n",
    "        \n",
    "    def add_edge(self, u, v):\n",
    "        \n",
    "        self.matrix[u][v] = 1\n",
    "    \n",
    "    def print_graph(self):\n",
    "        \n",
    "        print(self.matrix)\n",
    "        \n",
    "    \n",
    "####################################################\n",
    "\n",
    "vertices = [\"A\", \"B\", \"C\", \"D\"]\n",
    "\n",
    "graph = Graph_Adj_Matrix(vertices)\n",
    "\n",
    "graph.add_vertex(\"E\")\n",
    "\n",
    "graph.add_edge(\"A\", \"B\")\n",
    "graph.add_edge(\"B\", \"C\")\n",
    "graph.add_edge(\"C\", \"D\")\n",
    "graph.add_edge(\"D\", \"B\")\n",
    "graph.add_edge(\"D\", \"E\")\n",
    "\n",
    "graph.print_graph()\n",
    "        "
   ]
  },
  {
   "cell_type": "markdown",
   "metadata": {},
   "source": [
    "## Adjacency List\n",
    "\n",
    "Another way to implement a graph is through adjacency lists. Each vertex is assigned a corresponding list that contains all of the vertices that it is connected to with an edge. \n",
    "\n",
    "This method ensurest that you can insert and remove vertices in O(1) time. However, looking up edges is slower than with adjacency matrices, since in the worst case you will have to look through every edge (if one of the vertices connects to every edge). This makes edge lookup O(E). The space complexity is typically a lot less than with a matrix, since you only need to store info for when an edge does exsist. "
   ]
  },
  {
   "cell_type": "code",
   "execution_count": 5,
   "metadata": {},
   "outputs": [
    {
     "name": "stdout",
     "output_type": "stream",
     "text": [
      "A ['B']\n",
      "B ['C']\n",
      "C ['D']\n",
      "D ['B', 'E']\n"
     ]
    }
   ],
   "source": [
    "class Graph_Adj_List():\n",
    "    \n",
    "    def __init__(self):\n",
    "        \n",
    "        self.graph = {}\n",
    "        \n",
    "    def add_vertex(self, v):\n",
    "        \n",
    "        self.graph[v] = []\n",
    "        \n",
    "    def add_edge(self, u, v):\n",
    "        \n",
    "        self.graph[u].append(v)\n",
    "        \n",
    "    def print_graph(self):\n",
    "        \n",
    "        for key, value in self.graph.items():\n",
    "            \n",
    "            print(key, value)\n",
    "            \n",
    "##################################################3\n",
    "\n",
    "graph = Graph_Adj_List()\n",
    "\n",
    "graph.add_vertex(\"A\")\n",
    "graph.add_vertex(\"B\")\n",
    "graph.add_vertex(\"C\")\n",
    "graph.add_vertex(\"D\")\n",
    "\n",
    "graph.add_edge(\"A\", \"B\")\n",
    "graph.add_edge(\"B\", \"C\")\n",
    "graph.add_edge(\"C\", \"D\")\n",
    "graph.add_edge(\"D\", \"B\")\n",
    "graph.add_edge(\"D\", \"E\")\n",
    "\n",
    "graph.print_graph()\n",
    "\n"
   ]
  },
  {
   "cell_type": "code",
   "execution_count": null,
   "metadata": {},
   "outputs": [],
   "source": []
  }
 ],
 "metadata": {
  "kernelspec": {
   "display_name": "Python 3",
   "language": "python",
   "name": "python3"
  },
  "language_info": {
   "codemirror_mode": {
    "name": "ipython",
    "version": 3
   },
   "file_extension": ".py",
   "mimetype": "text/x-python",
   "name": "python",
   "nbconvert_exporter": "python",
   "pygments_lexer": "ipython3",
   "version": "3.7.4"
  }
 },
 "nbformat": 4,
 "nbformat_minor": 4
}
