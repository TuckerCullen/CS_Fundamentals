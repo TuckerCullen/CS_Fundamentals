{
 "cells": [
  {
   "cell_type": "markdown",
   "metadata": {},
   "source": [
    "# Balanced Binary Search Trees\n",
    "\n",
    "\n",
    "The main benefit of an unblanced binary search tree is that you can get the sorted list of value in O(n) time  (the time it takes to traverse the tree). However, an unbalanced tree does not provide any increases in speed for search, insertion, or lookup. Consider the fact that a fully unbalanced tree is essentially just a linked list, so the worst case complexity for all these operations is the same as a linked list (however it is a sorted linked list). \n",
    "\n",
    "By adding additional structural rules you can signigantly improve BST worst cases operations. Essentially, the goal is to \"balance\" the tree. That is, you want to ensure that there is no side of the tree that is signifigantly longer than any of the others. If a BST is balanced, any search, insertion, or lookup operation would have a worst case time of O(logn), since with each comparision you make as you go down the tree, you essentially remove half of the remaining possible nodes from the search set. \n",
    "\n",
    "While there are many ways this tree balancing can be achieved, there are two traditional implementations: AVL Trees and Red-Black Trees. \n",
    "\n",
    "## Red Black Trees\n",
    "\n",
    "Red black trees involve assigning a color, either red or black, to each level of the binary search tree. A few rules must be followed when assigning these colored levels:\n",
    "\n",
    "1) The root node is always black\n",
    "2) the leaf nodes are always black \n",
    "3) No red nodes can be adjacent to each other \n",
    "3) No matter which path you take to get from the root to a leaf (null node), you should go through the same number of black nodes. \n",
    "\n",
    "The color of each node is generally represented by a boolean (1 or 0), so one extra bit of space per node is required compared to a regular binary search tree. \n",
    "\n",
    "![red-back](photos/red-black.png)\n",
    "\n",
    "## AVL Trees\n",
    "\n",
    "In an AVL tree, the difference in height between the right subtree and the left subtree can be no more than 1. This difference is known as the balance factor, and is given by the equation:\n",
    "\n",
    "$BalanceFactor = height( RightSubtree )-height( LeftSubtree )$ \n",
    "\n",
    "The balance is calulated and stored for every node in the tree, so an AVL implemention requires an extra full integer (32 bits) of space per node in the tree.\n",
    "\n",
    "![avl-tree](photos/AVL-tree.png)\n",
    "\n",
    "## Comparing the Two \n",
    "\n",
    "|                 | Unblanced BST | AVL Tree | Red-Black Tree | Linked List |\n",
    "|-----------------|---------------|----------|----------------|-------------|\n",
    "| Get Sorted List | O(n)          | O(n)     | O(n)           | O(n log n)  |\n",
    "| Insertion       | O(n)          | O(log n) | O(log n)       | O(n)        |\n",
    "| Deletion        | O(n)          | O(log n) | O(log n)       | O(n)        |\n",
    "| Lookup          | O(n)          | O(log n) | O(log n)       | O(n)        |\n",
    "\n",
    "\n",
    "In terms of worst case runtime, AVL trees and Red Black trees accomplish the same goal: ensuring worst case O(log n) lookup, insertion, and deletion. However, in practice they behave slightly differently and which one you should choose depends on the situation. Red-Black trees have a less rigid structure then AVL trees (they are allowed to be slightly more unblanced). This means that lookup or deletion is not quite as fast in practice in red-black trees, so lookup heavy tasks should use a AVL tree instead. However, insertion heavy tasks should use a red-black tree, since this less rigid structure means that less rotations are often required when inserting into a red-black tree, making insertions take less time in practice. Furthermore, red black trees take up less space then AVL trees, since each node only requires an extra boolean (1 bit) instead of an int (32 bits) to keep track of the tree structure. \n",
    "\n",
    "## Balancing AVL Tree:\n",
    "\n",
    "when a node is inserted that leads to a balance factor of greater than 1, you need to perform rotations to balance the tree while maintaining BST properties. There are four different kinds of rotations you can perform, right rotation, left rotation, right-left rotation, left-right rotation. See  \n"
   ]
  },
  {
   "cell_type": "markdown",
   "metadata": {},
   "source": [
    "https://www.tutorialspoint.com/data_structures_algorithms/avl_tree_algorithm.htm"
   ]
  },
  {
   "cell_type": "code",
   "execution_count": null,
   "metadata": {},
   "outputs": [],
   "source": []
  }
 ],
 "metadata": {
  "kernelspec": {
   "display_name": "Python 3",
   "language": "python",
   "name": "python3"
  },
  "language_info": {
   "codemirror_mode": {
    "name": "ipython",
    "version": 3
   },
   "file_extension": ".py",
   "mimetype": "text/x-python",
   "name": "python",
   "nbconvert_exporter": "python",
   "pygments_lexer": "ipython3",
   "version": "3.7.4"
  }
 },
 "nbformat": 4,
 "nbformat_minor": 4
}
