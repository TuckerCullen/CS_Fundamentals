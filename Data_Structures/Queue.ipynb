{
 "cells": [
  {
   "cell_type": "markdown",
   "metadata": {},
   "source": [
    "# Queues "
   ]
  },
  {
   "cell_type": "markdown",
   "metadata": {},
   "source": [
    "Queues are similar to stacks, but instead of following a LIFO pattern then follow a FIFO pattern (first in first out). They work just like a queue in real life, the first person in line to buy a movie ticket will be the first one to get a movie ticket, and vice versa. \n",
    "\n",
    "Queues can be implemented using a linked list or array. "
   ]
  },
  {
   "cell_type": "markdown",
   "metadata": {},
   "source": [
    "## Implementation using a List\n",
    "\n",
    "A python list is essentially a dynamically sized array, so both enqueue and dequeue will be O(1) "
   ]
  },
  {
   "cell_type": "code",
   "execution_count": 41,
   "metadata": {},
   "outputs": [],
   "source": [
    "\n",
    "class List_Queue:\n",
    "    \n",
    "    def __init__(self):\n",
    "        \n",
    "        self.queue = []\n",
    "        \n",
    "    def enqueue(self, value):\n",
    "        \n",
    "        self.queue.insert(0, value)\n",
    "        \n",
    "    def dequeue(self):\n",
    "        \n",
    "        self.queue.pop()\n",
    "        \n",
    "    def empty(self):\n",
    "        \n",
    "        if not self.queue:\n",
    "            return True\n",
    "        else:\n",
    "            return False\n",
    "        \n",
    "    def print_queue(self):\n",
    "        \n",
    "        print(self.queue)\n",
    "        "
   ]
  },
  {
   "cell_type": "code",
   "execution_count": 42,
   "metadata": {},
   "outputs": [
    {
     "name": "stdout",
     "output_type": "stream",
     "text": [
      "[-1, 15, 7, 3]\n",
      "[-1, 15, 7]\n",
      "\n",
      "Queue empty?\n",
      "False\n",
      "\n",
      "[]\n",
      "how about now?\n",
      "True\n"
     ]
    }
   ],
   "source": [
    "q = List_Queue()\n",
    "\n",
    "q.enqueue(3)\n",
    "q.enqueue(7)\n",
    "q.enqueue(15)\n",
    "q.enqueue(-1)\n",
    "\n",
    "q.print_queue()\n",
    "\n",
    "q.dequeue()\n",
    "\n",
    "q.print_queue()\n",
    "\n",
    "print()\n",
    "print(\"Queue empty?\")\n",
    "print(q.empty())\n",
    "\n",
    "q.dequeue()\n",
    "q.dequeue()\n",
    "q.dequeue()\n",
    "print()\n",
    "\n",
    "q.print_queue()\n",
    "\n",
    "\n",
    "print(\"how about now?\")\n",
    "print(q.empty())\n",
    "\n",
    "\n"
   ]
  },
  {
   "cell_type": "markdown",
   "metadata": {},
   "source": [
    "## Linked list implementation \n",
    "\n",
    "Since the linked list I built in `LinkedList.ipynb` does not have a tail, this means that this is a poor implementation of a queue since enqueueing will take *O(n)* time. Adding a tail would fix this issue since adding to the back of the linked list would become O(1) if you could just go to the tail and add the value you would like to enqueue there. "
   ]
  },
  {
   "cell_type": "code",
   "execution_count": 43,
   "metadata": {},
   "outputs": [],
   "source": [
    "# !pip install ipynb\n",
    "\n",
    "from ipynb.fs.defs.LinkedList import *\n",
    "\n",
    "class Linked_List_Queue:\n",
    "    \n",
    "    def __init__(self):\n",
    "        \n",
    "        self.queue = List()\n",
    "        \n",
    "    def enqueue(self, value):\n",
    "        \n",
    "        self.queue.push_back(value)\n",
    "        \n",
    "    def dequeue(self):\n",
    "        \n",
    "        self.queue.pop_front()\n",
    "        \n",
    "    def empty(self):\n",
    "        \n",
    "        return self.queue.empty()\n",
    "        \n",
    "    def print_queue(self):\n",
    "        \n",
    "        self.queue.print_list()\n"
   ]
  },
  {
   "cell_type": "code",
   "execution_count": 44,
   "metadata": {},
   "outputs": [
    {
     "name": "stdout",
     "output_type": "stream",
     "text": [
      "3 ->  7 ->  15 ->  -1\n",
      "7 ->  15 ->  -1\n",
      "\n",
      "Queue empty?\n",
      "False\n",
      "\n",
      "how about now?\n",
      "True\n"
     ]
    }
   ],
   "source": [
    "q = Linked_List_Queue()\n",
    "\n",
    "q.enqueue(3)\n",
    "q.enqueue(7)\n",
    "q.enqueue(15)\n",
    "q.enqueue(-1)\n",
    "\n",
    "q.print_queue()\n",
    "\n",
    "q.dequeue()\n",
    "\n",
    "q.print_queue()\n",
    "\n",
    "print()\n",
    "print(\"Queue empty?\")\n",
    "print(q.empty())\n",
    "\n",
    "q.dequeue()\n",
    "q.dequeue()\n",
    "q.dequeue()\n",
    "print()\n",
    "\n",
    "print(\"how about now?\")\n",
    "print(q.empty())"
   ]
  },
  {
   "cell_type": "code",
   "execution_count": null,
   "metadata": {},
   "outputs": [],
   "source": []
  },
  {
   "cell_type": "code",
   "execution_count": null,
   "metadata": {},
   "outputs": [],
   "source": []
  }
 ],
 "metadata": {
  "kernelspec": {
   "display_name": "Python 3",
   "language": "python",
   "name": "python3"
  },
  "language_info": {
   "codemirror_mode": {
    "name": "ipython",
    "version": 3
   },
   "file_extension": ".py",
   "mimetype": "text/x-python",
   "name": "python",
   "nbconvert_exporter": "python",
   "pygments_lexer": "ipython3",
   "version": "3.7.4"
  }
 },
 "nbformat": 4,
 "nbformat_minor": 4
}
