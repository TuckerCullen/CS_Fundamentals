{
 "cells": [
  {
   "cell_type": "markdown",
   "metadata": {},
   "source": [
    "# Arrays"
   ]
  },
  {
   "cell_type": "markdown",
   "metadata": {},
   "source": [
    "## Calculating Array Addresses\n",
    "\n",
    "Under the hood, arrays are continuous blocks in memory. The address of an array points to the first index of the array, and the rest of array is stored in memory addresses immediately following that first address. \n",
    "\n",
    "For example, say that the first element of an array - `arr[0]` - is stored in address 0xbff344a8. The array contains ints, which have a size of four bytes, and each unique address indentifies a single byte. This means that `arr[1]` will be four addresses (bytes) away from the inital address. The beginning adress of `arr[1]` will therefore be 0xbff344ac. This is illustrated in the image below:\n",
    "\n",
    " <br/><br/>\n",
    "\n",
    "<img src=\"photos/arrays_in_memory.jpg\" />\n",
    "\n",
    "<br/><br/>\n",
    "\n",
    "Using this logic, we can locate data stored within an array using only simple arithmetic. The value at index `i` in an array is stored at:\n",
    "\n",
    "`arr[i] = array_address + element_size * i`\n",
    "\n",
    "Here `array_address` is the address of the first element in the array. It is also important to note that arrays always contain values of constant size (i.e. some array entries can't be four bytes while others are 8 bytes).  That enables you to multiply by the `element_size` in the above equation. This equation also assumes that the array is zero indexed. If there is another starting index, that first index will need to be subtracted from `i`.\n",
    "\n",
    "\n",
    "\n",
    "\n"
   ]
  },
  {
   "cell_type": "markdown",
   "metadata": {},
   "source": [
    "## Runtime of Common Array Operations\n",
    "\n",
    "Since any element in an array can be immediately accessed via this arithmetic, array lookup is always constant time *O(1)*. \n",
    "\n",
    "Adding and removing to the end of an array is also constant time, since you can just go right to the last address without touching the other values stored in the array. However if you want to add or remove a value from the beginning or middle of the array, that will take linear time *O(n)*, since you will also have to reposition the other stored values into new addresses. \n"
   ]
  },
  {
   "cell_type": "markdown",
   "metadata": {},
   "source": [
    "## Arrays in Python "
   ]
  },
  {
   "cell_type": "markdown",
   "metadata": {},
   "source": [
    "Python does not have native support for dealing with arrays. However, you can simulate arrays using lists, or you can import the numpy library. "
   ]
  },
  {
   "cell_type": "markdown",
   "metadata": {},
   "source": [
    "### Using Lists as an Array:"
   ]
  },
  {
   "cell_type": "code",
   "execution_count": 61,
   "metadata": {},
   "outputs": [
    {
     "name": "stdout",
     "output_type": "stream",
     "text": [
      "[1, 3, 4, 14, 5, 1, 8]\n",
      "Element at index 0:  1\n",
      "Element at index 3:  14\n",
      "\n",
      "array size: 7\n",
      "\n",
      "pop from back: 8\n",
      "[1, 3, 4, 14, 5, 1]\n",
      "\n",
      "Remove element at index 3\n",
      "[1, 3, 4, 5, 1]\n",
      "\n",
      "Insert 18 at index 2\n",
      "[1, 3, 18, 4, 5, 1]\n",
      "\n",
      "Remove the first occurance of 3\n",
      "[1, 18, 4, 5, 1]\n",
      "\n",
      "find first index of 4\n",
      "2\n",
      "\n",
      "count the number of 1s\n",
      "[1, 18, 4, 5, 1]\n",
      "2\n",
      "\n",
      "is list empty?\n",
      "False\n",
      "\n",
      "Reverse the list\n",
      "[1, 5, 4, 18, 1]\n",
      "\n",
      "Sort the list\n",
      "[1, 1, 4, 5, 18]\n",
      "\n",
      "Extend the list with another list:\n",
      "[1, 1, 4, 5, 18, 20, 30, 40]\n"
     ]
    }
   ],
   "source": [
    "arr = [1, 3, 4, 14, 5, 1, 8]\n",
    "print(arr)\n",
    "\n",
    "print(\"Element at index 0: \", arr[0])\n",
    "print(\"Element at index 3: \", arr[3])\n",
    "print()\n",
    "\n",
    "size = len(arr)\n",
    "print(\"array size:\", size )\n",
    "\n",
    "# removes last element and returns it\n",
    "last_element_popped = arr.pop()\n",
    "print(\"\\n\" + \"pop from back:\", last_element_popped)\n",
    "print(arr)\n",
    "\n",
    "# deletes element from specified position:\n",
    "print(\"\\n\" + \"Remove element at index 3\")\n",
    "delete = arr.pop(3)\n",
    "print(arr)\n",
    "\n",
    "print(\"\\n\" + \"Insert 18 at index 2\")\n",
    "arr.insert(2, 18) # insert(index, item)\n",
    "print(arr)\n",
    "\n",
    "print(\"\\n\" + \"Remove the first occurance of 3\")\n",
    "arr.remove(3)\n",
    "print(arr)\n",
    "\n",
    "print(\"\\n\" + \"find first index of 4\")\n",
    "find = arr.index(4)\n",
    "print(find)\n",
    "\n",
    "print(\"\\n\" + \"count the number of 1s\")\n",
    "count = arr.count(1)\n",
    "print(arr)\n",
    "print(count)\n",
    "\n",
    "print(\"\\n\" + \"is list empty?\")\n",
    "if not arr: # if arr is false, it is empty\n",
    "    print(True)\n",
    "else:\n",
    "    print(False) \n",
    "    \n",
    "print(\"\\n\" + \"Reverse the list\" )\n",
    "arr.reverse()\n",
    "print(arr)\n",
    "\n",
    "print(\"\\n\" + \"Sort the list\")\n",
    "arr.sort() #uses hybrid of merge and insertion sort\n",
    "print(arr)\n",
    "\n",
    "print(\"\\n\" + \"Extend the list with another list:\")\n",
    "arr.extend([20, 30, 40])\n",
    "print(arr)\n",
    "    \n",
    "\n"
   ]
  },
  {
   "cell_type": "markdown",
   "metadata": {},
   "source": [
    "## Multi Dimensional Arrays"
   ]
  },
  {
   "cell_type": "markdown",
   "metadata": {},
   "source": [
    "Multi-dimensional arrays are also possible. In memory, these multi-dimensional arrays are positioned as a series of columns (i.e. the first position in column 2 of the array is located at the address immediately after the last address in column 2). This is refered to as row-major order. \n",
    "\n",
    "<img src=\"photos/row-major-2D.png\" />\n",
    "\n",
    "The array access arithmetic needs to be adjusted for multi dimensional arrays. The first step in indexing a multidimensional array is skipping to the correct row:\n",
    "\n",
    "`arr[i][j] = array_address + element_size * ((i x row_length) + j)`\n"
   ]
  },
  {
   "cell_type": "markdown",
   "metadata": {},
   "source": [
    "## Dynamic Arrays\n",
    "\n",
    "When arrays are allocated in memory, they are given a certain size. In some cases an array will fill up, in which case more memory needs to be allocated. This generally involves allocating a new array of double the size of the original one, then copying all of the values over. \n",
    "\n",
    "We said before that appending to the end of an array is *O(1)*. In the case where the original array is filled up, the insertion is *O(n)* because all the elements need to be copied over to a new array. \n",
    "\n",
    "A `List` object in python is an example of a dynamic array (there are no static arrays in python). `Vector` in C++ and `ArrayList` in Java are also dynamic array implementations. "
   ]
  },
  {
   "cell_type": "markdown",
   "metadata": {},
   "source": [
    "## Jagged Arrays \n",
    "\n",
    "Essentially an array of arrays. Similar to multidimensional arrays, but the rows might all be different lengths.\n",
    "\n",
    "<img src=\"photos/Jagged-Array.jpg\" />\n",
    "![](photos/Jagged-Array.jpg)"
   ]
  },
  {
   "cell_type": "code",
   "execution_count": null,
   "metadata": {},
   "outputs": [],
   "source": []
  }
 ],
 "metadata": {
  "kernelspec": {
   "display_name": "Python 3",
   "language": "python",
   "name": "python3"
  },
  "language_info": {
   "codemirror_mode": {
    "name": "ipython",
    "version": 3
   },
   "file_extension": ".py",
   "mimetype": "text/x-python",
   "name": "python",
   "nbconvert_exporter": "python",
   "pygments_lexer": "ipython3",
   "version": "3.7.4"
  }
 },
 "nbformat": 4,
 "nbformat_minor": 4
}
