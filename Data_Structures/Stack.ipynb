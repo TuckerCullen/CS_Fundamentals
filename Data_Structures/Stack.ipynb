{
 "cells": [
  {
   "cell_type": "markdown",
   "metadata": {},
   "source": [
    "# Stacks \n",
    "\n",
    "Stacks are a data structure that follows the last-in-first-out (LIFO) protocol. You can only access the top of a stack, and the top of the stack always contains the most recently added object. \n",
    "\n",
    "Think of it like a stack of plates, when you add a plate you generally put it on the top of the other plates rather then lifting all the other plates up to but it on the bottom. Likewise, if you remove a plate you also generally remove the one on top of the stack of plates. \n",
    "\n",
    "Stacks are useful when you need to ensure this LIFO access pattern. Things like arrays and linked lists have random access - you can retrieve a value from anywhere in the data structure. In some cases, you don't want these random access to be possible, which is where a stack comes in. \n",
    "\n",
    "One example of a stack is the UNDO command on a word processor. When you make a change, the previous state is pushed onto the stack. If you hit UNDO, the most recent previous state is then popped off the stack to revert your document back to how it was before. \n"
   ]
  },
  {
   "cell_type": "markdown",
   "metadata": {},
   "source": [
    "## Stack implementation in python \n",
    "\n",
    "An array can be used to easily implement a stack. "
   ]
  },
  {
   "cell_type": "code",
   "execution_count": 24,
   "metadata": {},
   "outputs": [],
   "source": [
    "class Stack():  \n",
    "    \n",
    "    def __init__(self):\n",
    "        self.count = -1\n",
    "        self.arr = []\n",
    "        \n",
    "    def push(self, value):\n",
    "        \n",
    "        self.arr.append(value)\n",
    "        self.count += 1\n",
    "        \n",
    "    def pop(self):\n",
    "        \n",
    "        if self.count == -1:\n",
    "            return None\n",
    "        \n",
    "        popped_val = self.arr.pop(self.count)\n",
    "        self.count -= 1\n",
    "        \n",
    "        return popped_val\n",
    "    \n",
    "    def top(self):\n",
    "        \n",
    "        if self.count == -1:\n",
    "            return None\n",
    "        \n",
    "        return self.arr[self.count]\n",
    "    \n",
    "    def print_stack(self):\n",
    "        print(self.arr)\n",
    "        \n",
    "        "
   ]
  },
  {
   "cell_type": "markdown",
   "metadata": {},
   "source": [
    "## Testing the Stack "
   ]
  },
  {
   "cell_type": "code",
   "execution_count": 25,
   "metadata": {},
   "outputs": [
    {
     "name": "stdout",
     "output_type": "stream",
     "text": [
      "After adding four names: \n",
      "['John', 'Sue', 'David', 'Margo']\n",
      "After removing the top two names: \n",
      "['John', 'Sue']\n"
     ]
    }
   ],
   "source": [
    "s = Stack()\n",
    "\n",
    "assert s.pop() == None\n",
    "\n",
    "s.push(\"John\")\n",
    "s.push(\"Sue\")\n",
    "s.push(\"David\")\n",
    "s.push(\"Margo\")\n",
    "\n",
    "print(\"After adding four names: \")\n",
    "s.print_stack()\n",
    "\n",
    "assert s.pop() == \"Margo\"\n",
    "assert s.pop() == \"David\"\n",
    "\n",
    "print(\"After removing the top two names: \")\n",
    "s.print_stack()\n",
    "\n",
    "assert s.top() == \"Sue\""
   ]
  },
  {
   "cell_type": "code",
   "execution_count": null,
   "metadata": {},
   "outputs": [],
   "source": []
  }
 ],
 "metadata": {
  "kernelspec": {
   "display_name": "Python 3",
   "language": "python",
   "name": "python3"
  },
  "language_info": {
   "codemirror_mode": {
    "name": "ipython",
    "version": 3
   },
   "file_extension": ".py",
   "mimetype": "text/x-python",
   "name": "python",
   "nbconvert_exporter": "python",
   "pygments_lexer": "ipython3",
   "version": "3.7.4"
  }
 },
 "nbformat": 4,
 "nbformat_minor": 4
}
