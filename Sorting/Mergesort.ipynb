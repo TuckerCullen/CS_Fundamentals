{
 "cells": [
  {
   "cell_type": "markdown",
   "metadata": {},
   "source": [
    "# Mergesort "
   ]
  },
  {
   "cell_type": "markdown",
   "metadata": {},
   "source": [
    "1. break list apart until only one value remains in each sublist. \n",
    "2. compare first items in each sublist to merge them back together in the correct order\n",
    "3. Once one sublist is empty "
   ]
  },
  {
   "cell_type": "code",
   "execution_count": 33,
   "metadata": {},
   "outputs": [
    {
     "name": "stdout",
     "output_type": "stream",
     "text": [
      "[0, 4, 6, 15, 52]\n",
      "[1, 2, 3, 6, 10, 11, 15, 45, 101]\n"
     ]
    }
   ],
   "source": [
    "\n",
    "def mergesort(arr):\n",
    "    \n",
    "    if len(arr) == 1:\n",
    "        return arr\n",
    "    \n",
    "    mid = len(arr) // 2\n",
    "    \n",
    "    right = arr[mid:]\n",
    "    left = arr[:mid]\n",
    "    \n",
    "    left = mergesort(left)\n",
    "    right = mergesort(right)\n",
    "    \n",
    "    r = l = 0\n",
    "    \n",
    "    merged = []\n",
    "    \n",
    "    \n",
    "    while r < len(right) or l < len(left):\n",
    "        \n",
    "        if l == len(left):\n",
    "            merged.extend(right[r:])\n",
    "            r += len(right)\n",
    "        \n",
    "        elif r == len(right):\n",
    "            merged.extend(left[l:])\n",
    "            l += len(left)\n",
    "        \n",
    "        elif right[r] < left[l]:\n",
    "        \n",
    "            merged.append(right[r])\n",
    "            r+=1\n",
    "            \n",
    "        elif right[r] > left[l]:\n",
    "            merged.append(left[l])\n",
    "            l+=1\n",
    "        \n",
    "    return merged  \n",
    "    \n",
    "    \n",
    "l1 = [0, 15, 4, 52, 6]\n",
    "print(mergesort(l1))\n",
    "\n",
    "l2 = [15, 2, 10, 11, 6, 101, 45, 3, 1]\n",
    "print(mergesort(l2))"
   ]
  },
  {
   "cell_type": "code",
   "execution_count": null,
   "metadata": {},
   "outputs": [],
   "source": []
  }
 ],
 "metadata": {
  "kernelspec": {
   "display_name": "Python 3",
   "language": "python",
   "name": "python3"
  },
  "language_info": {
   "codemirror_mode": {
    "name": "ipython",
    "version": 3
   },
   "file_extension": ".py",
   "mimetype": "text/x-python",
   "name": "python",
   "nbconvert_exporter": "python",
   "pygments_lexer": "ipython3",
   "version": "3.7.4"
  }
 },
 "nbformat": 4,
 "nbformat_minor": 4
}
