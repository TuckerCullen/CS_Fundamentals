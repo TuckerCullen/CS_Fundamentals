{
 "cells": [
  {
   "cell_type": "markdown",
   "metadata": {},
   "source": [
    "# Quicksort "
   ]
  },
  {
   "cell_type": "markdown",
   "metadata": {},
   "source": [
    "1) Choose pivot \n",
    "\n",
    "2) everything greater than the pivot to the right \n",
    "\n",
    "3) everything smaller than the pivot to the left \n",
    "\n",
    "4) recursive call on right sublist \n",
    "\n",
    "5) recursive call on left sublist "
   ]
  },
  {
   "cell_type": "markdown",
   "metadata": {},
   "source": [
    "### Not In-place\n",
    "\n",
    "I coded this and them realized that while it has the same structure as quicksort, the creation of new lists for the \"left\" and \"right\" lists add unncessiary memory usage, as quicksort can be done in-place instead. "
   ]
  },
  {
   "cell_type": "code",
   "execution_count": 17,
   "metadata": {},
   "outputs": [
    {
     "name": "stdout",
     "output_type": "stream",
     "text": [
      "pivot:  6\n",
      "0\n",
      "1\n",
      "2\n",
      "3\n",
      "left:  [0, 4]\n",
      "right:  [15, 52]\n",
      "\n",
      "pivot:  4\n",
      "0\n",
      "left:  [0]\n",
      "right:  []\n",
      "\n",
      "pivot:  52\n",
      "0\n",
      "left:  [15]\n",
      "right:  []\n",
      "\n",
      "[0, 4, 6, 15, 52]\n"
     ]
    }
   ],
   "source": [
    "def quicksort_not_in_place(arr):\n",
    "    \n",
    "    if len(arr) == 0:\n",
    "        return\n",
    "    \n",
    "    if len(arr) == 1:\n",
    "        return [arr[0]]\n",
    "    \n",
    "    pivot = arr[-1]\n",
    "    \n",
    "    left = []\n",
    "    right = []\n",
    "    \n",
    "    print(\"pivot: \", pivot)\n",
    "    \n",
    "    for i in range(0, len(arr)-1):\n",
    "        \n",
    "        print(i)\n",
    "        \n",
    "        if arr[i] < pivot:\n",
    "            left.append(arr[i])\n",
    "            \n",
    "        else:\n",
    "            right.append(arr[i])\n",
    "            \n",
    "    print(\"left: \",left)\n",
    "    print(\"right: \", right)\n",
    "    print()\n",
    "            \n",
    "    if left and right:\n",
    "        return quicksort(left) + [pivot] + quicksort(right)\n",
    "    \n",
    "    elif left:\n",
    "        return quicksort(left) + [pivot]\n",
    "    \n",
    "    elif right:\n",
    "        return [pivot] + quicksort(right)\n",
    "\n",
    "    \n",
    "# -------------------------------------------------------------\n",
    "l1 = [0, 15, 4, 52, 6]\n",
    "\n",
    "print(quicksort_not_in_place(l1))\n",
    "    "
   ]
  },
  {
   "cell_type": "code",
   "execution_count": null,
   "metadata": {},
   "outputs": [],
   "source": [
    "def quicksort(arr, low, high):\n",
    "    \n",
    "    if \n",
    "    \n",
    "    "
   ]
  }
 ],
 "metadata": {
  "kernelspec": {
   "display_name": "Python 3",
   "language": "python",
   "name": "python3"
  },
  "language_info": {
   "codemirror_mode": {
    "name": "ipython",
    "version": 3
   },
   "file_extension": ".py",
   "mimetype": "text/x-python",
   "name": "python",
   "nbconvert_exporter": "python",
   "pygments_lexer": "ipython3",
   "version": "3.7.4"
  }
 },
 "nbformat": 4,
 "nbformat_minor": 4
}
